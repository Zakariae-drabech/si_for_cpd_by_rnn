{ 
 "cells": [
  {
   "cell_type": "code",
   "execution_count": null,
   "metadata": {},
   "outputs": [],
   "source": [
    "import tensorflow as tf\n",
    "import numpy as np\n",
    "from source.models import one_step_predict_model\n"
   ]
  },
  {
   "cell_type": "code",
   "execution_count": null,
   "metadata": {},
   "outputs": [],
   "source": [
    "model = one_step_predict_model()\n",
    "rng = np.random.default_rng(0)\n",
    "\n",
    "x_train = []\n",
    "y_train = []\n",
    "for _ in range(20000):\n",
    "    data = np.zeros(6)\n",
    "\n",
    "    data += rng.uniform(-20, 20)\n",
    "    data += rng.normal(0, 1, 11)\n",
    "    x_train.append(data[:-1])\n",
    "    y_train.append(data[-1])\n",
    "\n",
    "model.compile(optimizer='adam', loss='mse')\n",
    "model.fit(np.array(x_train), np.array(y_train), epochs=300, verbose=1, validation_split=0.1, batch_size=1024)\n",
    "model.save_weights('model/ms_.h5')\n"
   ]
  },
  {
   "cell_type": "code",
   "execution_count": null,
   "metadata": {},
   "outputs": [],
   "source": [
    "model = one_step_predict_model()\n",
    "rng = np.random.default_rng(0)\n",
    "\n",
    "x_train = []\n",
    "y_train = []\n",
    "for _ in range(20000):\n",
    "    r = rng.uniform(-0.4, 0.4)\n",
    "    data = np.linspace(0, r * 10, 11, endpoint=True)\n",
    "\n",
    "    data += rng.uniform(-20, 20)\n",
    "    data += rng.normal(0, 1, 11)\n",
    "    x_train.append(data[:-1])\n",
    "    y_train.append(data[-1])\n",
    "\n",
    "model.compile(optimizer='adam', loss='mse')\n",
    "model.fit(np.array(x_train), np.array(y_train), epochs=300, verbose=1, validation_split=0.1, batch_size=1024)\n",
    "model.save_weights('model/lt_.h5')\n"
   ]
  }
 ],
 "metadata": {
  "kernelspec": {
   "display_name": "Python 3",
   "language": "python",
   "name": "python3"
  },
  "language_info": {
   "codemirror_mode": {
    "name": "ipython",
    "version": 3
   },
   "file_extension": ".py",
   "mimetype": "text/x-python",
   "name": "python",
   "nbconvert_exporter": "python",
   "pygments_lexer": "ipython3",
   "version": "3.10.11"
  },
  "orig_nbformat": 4
 },
 "nbformat": 4,
 "nbformat_minor": 2
}
